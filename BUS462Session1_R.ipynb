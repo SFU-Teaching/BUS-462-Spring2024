{
  "nbformat": 4,
  "nbformat_minor": 0,
  "metadata": {
    "colab": {
      "provenance": [],
      "authorship_tag": "ABX9TyOMCVlJ8SD9bHZ3hUX3HZ8h",
      "include_colab_link": true
    },
    "kernelspec": {
      "name": "ir",
      "display_name": "R"
    },
    "language_info": {
      "name": "R"
    }
  },
  "cells": [
    {
      "cell_type": "markdown",
      "metadata": {
        "id": "view-in-github",
        "colab_type": "text"
      },
      "source": [
        "<a href=\"https://colab.research.google.com/github/kc-ck/BUS-462-Spring2024/blob/main/BUS462Session1_R.ipynb\" target=\"_parent\"><img src=\"https://colab.research.google.com/assets/colab-badge.svg\" alt=\"Open In Colab\"/></a>"
      ]
    },
    {
      "cell_type": "markdown",
      "source": [
        "\n",
        "# BUS 462 | Spring 2024 | Session 1\n",
        "## Getting Started with R\n",
        "### CK\n",
        "### 10 JAN 2024\n",
        "### REFERENCES / Attribution:\n",
        "#### (1) https://data.princeton.edu/R/gettingStarted ,\n",
        "#### (2) https://bookdown.org/animestina/R_Manchester/basic-principles-of-r-programming.html\n",
        "\n"
      ],
      "metadata": {
        "id": "da4nQ7EY4rrQ"
      }
    },
    {
      "cell_type": "markdown",
      "source": [
        "# Preamble"
      ],
      "metadata": {
        "id": "XrICnsKF48wA"
      }
    },
    {
      "cell_type": "markdown",
      "source": [
        "Anything starting with \"#\" means a comment ####\n",
        "\n",
        "- Remember to hit CTRL-ENTER to run code in editor or press the play icon\n",
        "- Hit enter to run code on console"
      ],
      "metadata": {
        "id": "FL0u9D4M5VPP"
      }
    },
    {
      "cell_type": "markdown",
      "source": [
        "# Expressions and Assignments"
      ],
      "metadata": {
        "id": "vhPdXZoD5og-"
      }
    },
    {
      "cell_type": "code",
      "source": [
        "### Arithmetic:: R works like a calculator, you type an expression and get the answer:\n",
        "1 + 2"
      ],
      "metadata": {
        "id": "e8Ox3sUn4s-N"
      },
      "execution_count": null,
      "outputs": []
    },
    {
      "cell_type": "code",
      "source": [
        "# The standard arithmetic operators are +, -, *, /, and ^ for add, subtract, multiply, divide, and  exp\n",
        "#These operators have the standard BODMAS precedence\n",
        "2^3\n"
      ],
      "metadata": {
        "id": "te-dRtFK5m2A"
      },
      "execution_count": null,
      "outputs": []
    },
    {
      "cell_type": "code",
      "source": [
        "# You can use standard mathematical functions, such as sqrt(), exp(), and log().\n",
        "# For example\n",
        "log(0.3/(1 - 0.3))\n"
      ],
      "metadata": {
        "colab": {
          "base_uri": "https://localhost:8080/",
          "height": 34
        },
        "id": "LbiZfLwT5yux",
        "outputId": "fb9a33e2-79c3-41d6-8863-6d87138a9bfa"
      },
      "execution_count": 4,
      "outputs": [
        {
          "output_type": "display_data",
          "data": {
            "text/html": [
              "-0.847297860387204"
            ],
            "text/markdown": "-0.847297860387204",
            "text/latex": "-0.847297860387204",
            "text/plain": [
              "[1] -0.8472979"
            ]
          },
          "metadata": {}
        }
      ]
    },
    {
      "cell_type": "markdown",
      "source": [
        "## Assignments"
      ],
      "metadata": {
        "id": "ENTCtpk753yb"
      }
    },
    {
      "cell_type": "code",
      "source": [],
      "metadata": {
        "id": "2-3m6wUv52TX"
      },
      "execution_count": null,
      "outputs": []
    }
  ]
}